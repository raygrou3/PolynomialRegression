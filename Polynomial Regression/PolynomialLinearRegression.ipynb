{
 "cells": [
  {
   "cell_type": "code",
   "execution_count": 1,
   "id": "41c3c6b6",
   "metadata": {},
   "outputs": [],
   "source": [
    "import numpy as np\n",
    "import pandas as pd\n"
   ]
  },
  {
   "cell_type": "code",
   "execution_count": 2,
   "id": "88cb267d",
   "metadata": {},
   "outputs": [],
   "source": [
    "import matplotlib.pyplot as plt\n",
    "import seaborn as sns"
   ]
  },
  {
   "cell_type": "code",
   "execution_count": 3,
   "id": "61c900bd",
   "metadata": {},
   "outputs": [],
   "source": [
    "%matplotlib inline\n",
    "# sns.set()"
   ]
  },
  {
   "cell_type": "code",
   "execution_count": 4,
   "id": "2a4aec0c",
   "metadata": {},
   "outputs": [],
   "source": [
    "from sklearn.model_selection import train_test_split\n",
    "from sklearn.linear_model import LinearRegression\n",
    "from sklearn.preprocessing import PolynomialFeatures, StandardScaler\n",
    "from sklearn.metrics import r2_score\n",
    "from sklearn.pipeline import Pipeline"
   ]
  },
  {
   "cell_type": "code",
   "execution_count": 5,
   "id": "85da57d4",
   "metadata": {},
   "outputs": [],
   "source": [
    "np.random.seed(42)\n",
    "X=6*np.random.rand(200,1)-3\n",
    "y=0.8*X**2+0.9*X+2+np.random.randn(200,1)"
   ]
  },
  {
   "cell_type": "code",
   "execution_count": 6,
   "id": "7a0b2875",
   "metadata": {
    "scrolled": true
   },
   "outputs": [
    {
     "data": {
      "text/plain": [
       "([<matplotlib.axis.YTick at 0x24cd23dd6d0>,\n",
       "  <matplotlib.axis.YTick at 0x24cd23c4fa0>,\n",
       "  <matplotlib.axis.YTick at 0x24cd23c4640>,\n",
       "  <matplotlib.axis.YTick at 0x24cd2abf700>,\n",
       "  <matplotlib.axis.YTick at 0x24cd2abfb80>,\n",
       "  <matplotlib.axis.YTick at 0x24cd2acd310>,\n",
       "  <matplotlib.axis.YTick at 0x24cd2acda60>,\n",
       "  <matplotlib.axis.YTick at 0x24cd2ad01f0>,\n",
       "  <matplotlib.axis.YTick at 0x24cd2ad0940>],\n",
       " [Text(0, 0, '0'),\n",
       "  Text(0, 2, '2'),\n",
       "  Text(0, 4, '4'),\n",
       "  Text(0, 6, '6'),\n",
       "  Text(0, 8, '8'),\n",
       "  Text(0, 10, '10'),\n",
       "  Text(0, 12, '12'),\n",
       "  Text(0, 14, '14'),\n",
       "  Text(0, 16, '16')])"
      ]
     },
     "execution_count": 6,
     "metadata": {},
     "output_type": "execute_result"
    },
    {
     "data": {
      "image/png": "[encoded data removed]",
      "text/plain": [
       "<Figure size 432x288 with 1 Axes>"
      ]
     },
     "metadata": {
      "needs_background": "light"
     },
     "output_type": "display_data"
    }
   ],
   "source": [
    "plt.plot(X,y,'.','')\n",
    "plt.xlabel('X')\n",
    "plt.ylabel('y')\n",
    "plt.yticks([0,2,4,6,8,10,12,14,16],['0','2','4','6','8','10','12','14','16'])\n"
   ]
  },
  {
   "cell_type": "code",
   "execution_count": 7,
   "id": "ba4f4518",
   "metadata": {},
   "outputs": [],
   "source": [
    "X_train,X_test,y_train,y_test=train_test_split(X,y,test_size=0.2,random_state=2)"
   ]
  },
  {
   "cell_type": "code",
   "execution_count": 8,
   "id": "519ed7bb",
   "metadata": {},
   "outputs": [],
   "source": [
    "lm=LinearRegression()"
   ]
  },
  {
   "cell_type": "code",
   "execution_count": 9,
   "id": "ee20eab7",
   "metadata": {},
   "outputs": [
    {
     "data": {
      "text/plain": [
       "LinearRegression()"
      ]
     },
     "execution_count": 9,
     "metadata": {},
     "output_type": "execute_result"
    }
   ],
   "source": [
    "lm.fit(X_train,y_train)"
   ]
  },
  {
   "cell_type": "code",
   "execution_count": 10,
   "id": "49f87b17",
   "metadata": {},
   "outputs": [
    {
     "data": {
      "text/plain": [
       "0.3445386715607355"
      ]
     },
     "execution_count": 10,
     "metadata": {},
     "output_type": "execute_result"
    }
   ],
   "source": [
    "prediction=lm.predict(X_test)\n",
    "r2_score(y_test,prediction)"
   ]
  },
  {
   "cell_type": "code",
   "execution_count": 11,
   "id": "f45a4f53",
   "metadata": {},
   "outputs": [
    {
     "data": {
      "text/plain": [
       "(40, 1)"
      ]
     },
     "execution_count": 11,
     "metadata": {},
     "output_type": "execute_result"
    }
   ],
   "source": [
    "lm.predict(X_test).shape"
   ]
  },
  {
   "cell_type": "code",
   "execution_count": 12,
   "id": "1fa26d82",
   "metadata": {},
   "outputs": [
    {
     "data": {
      "text/plain": [
       "(40, 1)"
      ]
     },
     "execution_count": 12,
     "metadata": {},
     "output_type": "execute_result"
    }
   ],
   "source": [
    "prediction.shape"
   ]
  },
  {
   "cell_type": "code",
   "execution_count": 13,
   "id": "4cb52dcd",
   "metadata": {},
   "outputs": [
    {
     "data": {
      "text/plain": [
       "[<matplotlib.lines.Line2D at 0x24cd2bce910>]"
      ]
     },
     "execution_count": 13,
     "metadata": {},
     "output_type": "execute_result"
    },
    {
     "data": {
      "image/png": "[encoded data removed]",
      "text/plain": [
       "<Figure size 432x288 with 1 Axes>"
      ]
     },
     "metadata": {
      "needs_background": "light"
     },
     "output_type": "display_data"
    }
   ],
   "source": [
    "plt.plot(X_train,lm.predict(X_train),color='r')\n",
    "plt.plot(X,y,'.')"
   ]
  },
  {
   "cell_type": "code",
   "execution_count": 14,
   "id": "2da06029",
   "metadata": {},
   "outputs": [],
   "source": [
    "poly=PolynomialFeatures(degree=2)\n",
    "X_train_trans=poly.fit_transform(X_train)\n",
    "X_test_trans=poly.fit_transform(X_test)\n"
   ]
  },
  {
   "cell_type": "code",
   "execution_count": 15,
   "id": "7bde5649",
   "metadata": {},
   "outputs": [],
   "source": [
    "#if deg=2 poly=[X^0,X^1,X^2]"
   ]
  },
  {
   "cell_type": "code",
   "execution_count": 16,
   "id": "22830ade",
   "metadata": {},
   "outputs": [
    {
     "name": "stdout",
     "output_type": "stream",
     "text": [
      "[[ 1.21811375]\n",
      " [ 0.2146481 ]\n",
      " [-2.03267228]\n",
      " [-2.33968845]\n",
      " [-2.53812054]\n",
      " [-1.48930623]\n",
      " [-0.02893854]\n",
      " [-0.49553398]\n",
      " [ 2.77468377]\n",
      " [-2.06403288]\n",
      " [ 1.36929809]\n",
      " [-2.81142489]\n",
      " [ 2.81945911]\n",
      " [ 0.33120487]\n",
      " [-0.26358009]\n",
      " [-0.16671045]\n",
      " [-2.15445465]\n",
      " [ 0.60669007]\n",
      " [ 0.07255835]\n",
      " [-1.95380143]\n",
      " [ 0.55448741]\n",
      " [-0.97430897]\n",
      " [ 1.62580308]\n",
      " [-2.79366887]\n",
      " [ 0.54535766]\n",
      " [-1.01461185]\n",
      " [-1.45235023]\n",
      " [-0.53770246]\n",
      " [-1.62721101]\n",
      " [-1.19473014]\n",
      " [-0.95360189]\n",
      " [-1.07531961]\n",
      " [ 0.657386  ]\n",
      " [-2.30478564]\n",
      " [ 2.70428584]\n",
      " [ 0.23605345]\n",
      " [ 2.40250834]\n",
      " [-1.32812121]\n",
      " [-0.7933012 ]\n",
      " [ 0.17790347]\n",
      " [ 0.01607414]\n",
      " [-1.17231738]\n",
      " [-2.90047303]\n",
      " [-2.17487434]\n",
      " [ 1.97242505]\n",
      " [-0.75275929]\n",
      " [ 0.08540663]\n",
      " [ 1.56971769]\n",
      " [-2.84748524]\n",
      " [ 2.35535399]\n",
      " [ 0.67111737]\n",
      " [-1.57417474]\n",
      " [ 1.03281328]\n",
      " [-0.01650896]\n",
      " [-2.55573209]\n",
      " [ 0.64526911]\n",
      " [ 2.91390272]\n",
      " [ 0.14853859]\n",
      " [-1.04801802]\n",
      " [-2.31915887]\n",
      " [ 0.80042254]\n",
      " [ 2.1643835 ]\n",
      " [ 2.8306925 ]\n",
      " [ 2.38329455]\n",
      " [ 0.36766319]\n",
      " [-1.56262866]\n",
      " [-2.16303684]\n",
      " [ 2.53124541]\n",
      " [-1.17454654]\n",
      " [-2.13063077]\n",
      " [ 1.27946872]\n",
      " [-2.35265144]\n",
      " [ 1.84464093]\n",
      " [ 2.38266156]\n",
      " [ 1.24114406]\n",
      " [-2.44138339]\n",
      " [ 0.79383498]\n",
      " [-1.29095703]\n",
      " [ 1.35573407]\n",
      " [ 0.82534483]\n",
      " [-2.28243452]\n",
      " [-1.13410607]\n",
      " [-0.40832989]\n",
      " [-0.43475389]\n",
      " [ 0.81846247]\n",
      " [-0.43735327]\n",
      " [-2.45826138]\n",
      " [-1.06078241]\n",
      " [-1.37190581]\n",
      " [ 0.73978876]\n",
      " [-2.55269614]\n",
      " [ 0.06448382]\n",
      " [-2.46904499]\n",
      " [-1.25262516]\n",
      " [ 1.37763707]\n",
      " [ 1.63346862]\n",
      " [-0.66793626]\n",
      " [ 2.7937922 ]\n",
      " [-2.26777059]\n",
      " [-0.81822239]\n",
      " [ 1.62762208]\n",
      " [-0.06328344]\n",
      " [-1.80195731]\n",
      " [-2.60969044]\n",
      " [-0.90474255]\n",
      " [ 0.13639698]\n",
      " [-2.6186499 ]\n",
      " [-1.26149128]\n",
      " [-1.50424663]\n",
      " [ 1.89276857]\n",
      " [-1.88057965]\n",
      " [ 2.44959532]\n",
      " [-2.77867832]\n",
      " [-1.54766837]\n",
      " [ 2.32251855]\n",
      " [ 0.11274373]\n",
      " [-0.35908504]\n",
      " [-1.89087327]\n",
      " [ 1.9033332 ]\n",
      " [-2.2808078 ]\n",
      " [ 2.81750777]\n",
      " [ 2.63699365]\n",
      " [ 2.17862056]\n",
      " [ 0.95990428]\n",
      " [ 2.3765478 ]\n",
      " [-1.54888625]\n",
      " [-1.12973354]\n",
      " [ 2.32327646]\n",
      " [ 2.92132162]\n",
      " [ 1.81318188]\n",
      " [ 2.26403612]\n",
      " [-2.72863627]\n",
      " [ 2.69331322]\n",
      " [ 1.10539816]\n",
      " [ 0.05142415]\n",
      " [ 1.65079694]\n",
      " [ 1.53330683]\n",
      " [ 1.06538617]\n",
      " [-2.06388816]\n",
      " [-1.11386411]\n",
      " [-1.88088894]\n",
      " [-2.41396732]\n",
      " [ 1.82203246]\n",
      " [-1.63238902]\n",
      " [-2.69112749]\n",
      " [-1.97685526]\n",
      " [-0.85948004]\n",
      " [ 0.12040813]\n",
      " [-0.96582125]\n",
      " [-0.03722642]\n",
      " [-0.67958792]\n",
      " [ 0.80117826]\n",
      " [ 2.19705687]\n",
      " [ 2.44539884]\n",
      " [ 1.37404301]\n",
      " [ 2.45592241]\n",
      " [-1.24713211]\n",
      " [-2.9668673 ]\n",
      " [-1.89957294]\n",
      " [-2.75534915]]\n"
     ]
    }
   ],
   "source": [
    "print(X_train)"
   ]
  },
  {
   "cell_type": "code",
   "execution_count": 17,
   "id": "17a7bc04",
   "metadata": {},
   "outputs": [
    {
     "data": {
      "text/plain": [
       "array([1.21811375])"
      ]
     },
     "execution_count": 17,
     "metadata": {},
     "output_type": "execute_result"
    }
   ],
   "source": [
    "X_train[0]"
   ]
  },
  {
   "cell_type": "code",
   "execution_count": 18,
   "id": "c12063ba",
   "metadata": {},
   "outputs": [
    {
     "data": {
      "text/plain": [
       "array([[ 1.00000000e+00,  1.21811375e+00,  1.48380112e+00],\n",
       "       [ 1.00000000e+00,  2.14648104e-01,  4.60738087e-02],\n",
       "       [ 1.00000000e+00, -2.03267228e+00,  4.13175658e+00],\n",
       "       [ 1.00000000e+00, -2.33968845e+00,  5.47414206e+00],\n",
       "       [ 1.00000000e+00, -2.53812054e+00,  6.44205588e+00],\n",
       "       [ 1.00000000e+00, -1.48930623e+00,  2.21803303e+00],\n",
       "       [ 1.00000000e+00, -2.89385393e-02,  8.37439059e-04],\n",
       "       [ 1.00000000e+00, -4.95533981e-01,  2.45553926e-01],\n",
       "       [ 1.00000000e+00,  2.77468377e+00,  7.69887002e+00],\n",
       "       [ 1.00000000e+00, -2.06403288e+00,  4.26023172e+00],\n",
       "       [ 1.00000000e+00,  1.36929809e+00,  1.87497726e+00],\n",
       "       [ 1.00000000e+00, -2.81142489e+00,  7.90410989e+00],\n",
       "       [ 1.00000000e+00,  2.81945911e+00,  7.94934969e+00],\n",
       "       [ 1.00000000e+00,  3.31204870e-01,  1.09696666e-01],\n",
       "       [ 1.00000000e+00, -2.63580095e-01,  6.94744663e-02],\n",
       "       [ 1.00000000e+00, -1.66710449e-01,  2.77923738e-02],\n",
       "       [ 1.00000000e+00, -2.15445465e+00,  4.64167484e+00],\n",
       "       [ 1.00000000e+00,  6.06690070e-01,  3.68072842e-01],\n",
       "       [ 1.00000000e+00,  7.25583498e-02,  5.26471413e-03],\n",
       "       [ 1.00000000e+00, -1.95380143e+00,  3.81734001e+00],\n",
       "       [ 1.00000000e+00,  5.54487413e-01,  3.07456291e-01],\n",
       "       [ 1.00000000e+00, -9.74308972e-01,  9.49277972e-01],\n",
       "       [ 1.00000000e+00,  1.62580308e+00,  2.64323565e+00],\n",
       "       [ 1.00000000e+00, -2.79366887e+00,  7.80458577e+00],\n",
       "       [ 1.00000000e+00,  5.45357659e-01,  2.97414976e-01],\n",
       "       [ 1.00000000e+00, -1.01461185e+00,  1.02943721e+00],\n",
       "       [ 1.00000000e+00, -1.45235023e+00,  2.10932120e+00],\n",
       "       [ 1.00000000e+00, -5.37702462e-01,  2.89123937e-01],\n",
       "       [ 1.00000000e+00, -1.62721101e+00,  2.64781566e+00],\n",
       "       [ 1.00000000e+00, -1.19473014e+00,  1.42738011e+00],\n",
       "       [ 1.00000000e+00, -9.53601894e-01,  9.09356572e-01],\n",
       "       [ 1.00000000e+00, -1.07531961e+00,  1.15631226e+00],\n",
       "       [ 1.00000000e+00,  6.57386004e-01,  4.32156358e-01],\n",
       "       [ 1.00000000e+00, -2.30478564e+00,  5.31203686e+00],\n",
       "       [ 1.00000000e+00,  2.70428584e+00,  7.31316190e+00],\n",
       "       [ 1.00000000e+00,  2.36053451e-01,  5.57212320e-02],\n",
       "       [ 1.00000000e+00,  2.40250834e+00,  5.77204634e+00],\n",
       "       [ 1.00000000e+00, -1.32812121e+00,  1.76390596e+00],\n",
       "       [ 1.00000000e+00, -7.93301204e-01,  6.29326800e-01],\n",
       "       [ 1.00000000e+00,  1.77903470e-01,  3.16496447e-02],\n",
       "       [ 1.00000000e+00,  1.60741394e-02,  2.58377957e-04],\n",
       "       [ 1.00000000e+00, -1.17231738e+00,  1.37432805e+00],\n",
       "       [ 1.00000000e+00, -2.90047303e+00,  8.41274378e+00],\n",
       "       [ 1.00000000e+00, -2.17487434e+00,  4.73007837e+00],\n",
       "       [ 1.00000000e+00,  1.97242505e+00,  3.89046060e+00],\n",
       "       [ 1.00000000e+00, -7.52759287e-01,  5.66646544e-01],\n",
       "       [ 1.00000000e+00,  8.54066305e-02,  7.29429253e-03],\n",
       "       [ 1.00000000e+00,  1.56971769e+00,  2.46401363e+00],\n",
       "       [ 1.00000000e+00, -2.84748524e+00,  8.10817219e+00],\n",
       "       [ 1.00000000e+00,  2.35535399e+00,  5.54769242e+00],\n",
       "       [ 1.00000000e+00,  6.71117368e-01,  4.50398522e-01],\n",
       "       [ 1.00000000e+00, -1.57417474e+00,  2.47802610e+00],\n",
       "       [ 1.00000000e+00,  1.03281328e+00,  1.06670328e+00],\n",
       "       [ 1.00000000e+00, -1.65089646e-02,  2.72545914e-04],\n",
       "       [ 1.00000000e+00, -2.55573209e+00,  6.53176651e+00],\n",
       "       [ 1.00000000e+00,  6.45269111e-01,  4.16372226e-01],\n",
       "       [ 1.00000000e+00,  2.91390272e+00,  8.49082909e+00],\n",
       "       [ 1.00000000e+00,  1.48538590e-01,  2.20637127e-02],\n",
       "       [ 1.00000000e+00, -1.04801802e+00,  1.09834176e+00],\n",
       "       [ 1.00000000e+00, -2.31915887e+00,  5.37849788e+00],\n",
       "       [ 1.00000000e+00,  8.00422539e-01,  6.40676241e-01],\n",
       "       [ 1.00000000e+00,  2.16438350e+00,  4.68455593e+00],\n",
       "       [ 1.00000000e+00,  2.83069250e+00,  8.01282001e+00],\n",
       "       [ 1.00000000e+00,  2.38329455e+00,  5.68009290e+00],\n",
       "       [ 1.00000000e+00,  3.67663185e-01,  1.35176218e-01],\n",
       "       [ 1.00000000e+00, -1.56262866e+00,  2.44180832e+00],\n",
       "       [ 1.00000000e+00, -2.16303684e+00,  4.67872835e+00],\n",
       "       [ 1.00000000e+00,  2.53124541e+00,  6.40720333e+00],\n",
       "       [ 1.00000000e+00, -1.17454654e+00,  1.37955958e+00],\n",
       "       [ 1.00000000e+00, -2.13063077e+00,  4.53958747e+00],\n",
       "       [ 1.00000000e+00,  1.27946872e+00,  1.63704021e+00],\n",
       "       [ 1.00000000e+00, -2.35265144e+00,  5.53496879e+00],\n",
       "       [ 1.00000000e+00,  1.84464093e+00,  3.40270016e+00],\n",
       "       [ 1.00000000e+00,  2.38266156e+00,  5.67707611e+00],\n",
       "       [ 1.00000000e+00,  1.24114406e+00,  1.54043859e+00],\n",
       "       [ 1.00000000e+00, -2.44138339e+00,  5.96035287e+00],\n",
       "       [ 1.00000000e+00,  7.93834984e-01,  6.30173981e-01],\n",
       "       [ 1.00000000e+00, -1.29095703e+00,  1.66657006e+00],\n",
       "       [ 1.00000000e+00,  1.35573407e+00,  1.83801488e+00],\n",
       "       [ 1.00000000e+00,  8.25344828e-01,  6.81194085e-01],\n",
       "       [ 1.00000000e+00, -2.28243452e+00,  5.20950736e+00],\n",
       "       [ 1.00000000e+00, -1.13410607e+00,  1.28619658e+00],\n",
       "       [ 1.00000000e+00, -4.08329888e-01,  1.66733298e-01],\n",
       "       [ 1.00000000e+00, -4.34753890e-01,  1.89010945e-01],\n",
       "       [ 1.00000000e+00,  8.18462468e-01,  6.69880811e-01],\n",
       "       [ 1.00000000e+00, -4.37353268e-01,  1.91277881e-01],\n",
       "       [ 1.00000000e+00, -2.45826138e+00,  6.04304901e+00],\n",
       "       [ 1.00000000e+00, -1.06078241e+00,  1.12525932e+00],\n",
       "       [ 1.00000000e+00, -1.37190581e+00,  1.88212555e+00],\n",
       "       [ 1.00000000e+00,  7.39788761e-01,  5.47287411e-01],\n",
       "       [ 1.00000000e+00, -2.55269614e+00,  6.51625757e+00],\n",
       "       [ 1.00000000e+00,  6.44838155e-02,  4.15816246e-03],\n",
       "       [ 1.00000000e+00, -2.46904499e+00,  6.09618315e+00],\n",
       "       [ 1.00000000e+00, -1.25262516e+00,  1.56906979e+00],\n",
       "       [ 1.00000000e+00,  1.37763707e+00,  1.89788390e+00],\n",
       "       [ 1.00000000e+00,  1.63346862e+00,  2.66821972e+00],\n",
       "       [ 1.00000000e+00, -6.67936262e-01,  4.46138850e-01],\n",
       "       [ 1.00000000e+00,  2.79379220e+00,  7.80527485e+00],\n",
       "       [ 1.00000000e+00, -2.26777059e+00,  5.14278345e+00],\n",
       "       [ 1.00000000e+00, -8.18222386e-01,  6.69487873e-01],\n",
       "       [ 1.00000000e+00,  1.62762208e+00,  2.64915364e+00],\n",
       "       [ 1.00000000e+00, -6.32834383e-02,  4.00479357e-03],\n",
       "       [ 1.00000000e+00, -1.80195731e+00,  3.24705014e+00],\n",
       "       [ 1.00000000e+00, -2.60969044e+00,  6.81048420e+00],\n",
       "       [ 1.00000000e+00, -9.04742552e-01,  8.18559086e-01],\n",
       "       [ 1.00000000e+00,  1.36396976e-01,  1.86041351e-02],\n",
       "       [ 1.00000000e+00, -2.61864990e+00,  6.85732729e+00],\n",
       "       [ 1.00000000e+00, -1.26149128e+00,  1.59136026e+00],\n",
       "       [ 1.00000000e+00, -1.50424663e+00,  2.26275791e+00],\n",
       "       [ 1.00000000e+00,  1.89276857e+00,  3.58257286e+00],\n",
       "       [ 1.00000000e+00, -1.88057965e+00,  3.53657981e+00],\n",
       "       [ 1.00000000e+00,  2.44959532e+00,  6.00051721e+00],\n",
       "       [ 1.00000000e+00, -2.77867832e+00,  7.72105318e+00],\n",
       "       [ 1.00000000e+00, -1.54766837e+00,  2.39527739e+00],\n",
       "       [ 1.00000000e+00,  2.32251855e+00,  5.39409239e+00],\n",
       "       [ 1.00000000e+00,  1.12743730e-01,  1.27111488e-02],\n",
       "       [ 1.00000000e+00, -3.59085038e-01,  1.28942064e-01],\n",
       "       [ 1.00000000e+00, -1.89087327e+00,  3.57540171e+00],\n",
       "       [ 1.00000000e+00,  1.90333320e+00,  3.62267727e+00],\n",
       "       [ 1.00000000e+00, -2.28080780e+00,  5.20208420e+00],\n",
       "       [ 1.00000000e+00,  2.81750777e+00,  7.93835001e+00],\n",
       "       [ 1.00000000e+00,  2.63699365e+00,  6.95373551e+00],\n",
       "       [ 1.00000000e+00,  2.17862056e+00,  4.74638752e+00],\n",
       "       [ 1.00000000e+00,  9.59904276e-01,  9.21416219e-01],\n",
       "       [ 1.00000000e+00,  2.37654780e+00,  5.64797944e+00],\n",
       "       [ 1.00000000e+00, -1.54888625e+00,  2.39904863e+00],\n",
       "       [ 1.00000000e+00, -1.12973354e+00,  1.27629788e+00],\n",
       "       [ 1.00000000e+00,  2.32327646e+00,  5.39761349e+00],\n",
       "       [ 1.00000000e+00,  2.92132162e+00,  8.53412001e+00],\n",
       "       [ 1.00000000e+00,  1.81318188e+00,  3.28762855e+00],\n",
       "       [ 1.00000000e+00,  2.26403612e+00,  5.12585955e+00],\n",
       "       [ 1.00000000e+00, -2.72863627e+00,  7.44545588e+00],\n",
       "       [ 1.00000000e+00,  2.69331322e+00,  7.25393612e+00],\n",
       "       [ 1.00000000e+00,  1.10539816e+00,  1.22190509e+00],\n",
       "       [ 1.00000000e+00,  5.14241470e-02,  2.64444289e-03],\n",
       "       [ 1.00000000e+00,  1.65079694e+00,  2.72513054e+00],\n",
       "       [ 1.00000000e+00,  1.53330683e+00,  2.35102984e+00],\n",
       "       [ 1.00000000e+00,  1.06538617e+00,  1.13504769e+00],\n",
       "       [ 1.00000000e+00, -2.06388816e+00,  4.25963433e+00],\n",
       "       [ 1.00000000e+00, -1.11386411e+00,  1.24069326e+00],\n",
       "       [ 1.00000000e+00, -1.88088894e+00,  3.53774320e+00],\n",
       "       [ 1.00000000e+00, -2.41396732e+00,  5.82723820e+00],\n",
       "       [ 1.00000000e+00,  1.82203246e+00,  3.31980229e+00],\n",
       "       [ 1.00000000e+00, -1.63238902e+00,  2.66469393e+00],\n",
       "       [ 1.00000000e+00, -2.69112749e+00,  7.24216718e+00],\n",
       "       [ 1.00000000e+00, -1.97685526e+00,  3.90795671e+00],\n",
       "       [ 1.00000000e+00, -8.59480040e-01,  7.38705939e-01],\n",
       "       [ 1.00000000e+00,  1.20408127e-01,  1.44981171e-02],\n",
       "       [ 1.00000000e+00, -9.65821254e-01,  9.32810694e-01],\n",
       "       [ 1.00000000e+00, -3.72264218e-02,  1.38580648e-03],\n",
       "       [ 1.00000000e+00, -6.79587922e-01,  4.61839744e-01],\n",
       "       [ 1.00000000e+00,  8.01178265e-01,  6.41886612e-01],\n",
       "       [ 1.00000000e+00,  2.19705687e+00,  4.82705891e+00],\n",
       "       [ 1.00000000e+00,  2.44539884e+00,  5.97997550e+00],\n",
       "       [ 1.00000000e+00,  1.37404301e+00,  1.88799419e+00],\n",
       "       [ 1.00000000e+00,  2.45592241e+00,  6.03155490e+00],\n",
       "       [ 1.00000000e+00, -1.24713211e+00,  1.55533850e+00],\n",
       "       [ 1.00000000e+00, -2.96686730e+00,  8.80230156e+00],\n",
       "       [ 1.00000000e+00, -1.89957294e+00,  3.60837736e+00],\n",
       "       [ 1.00000000e+00, -2.75534915e+00,  7.59194894e+00]])"
      ]
     },
     "execution_count": 18,
     "metadata": {},
     "output_type": "execute_result"
    }
   ],
   "source": [
    "X_train_trans"
   ]
  },
  {
   "cell_type": "code",
   "execution_count": 19,
   "id": "35ba4c17",
   "metadata": {},
   "outputs": [
    {
     "data": {
      "text/plain": [
       "array([1.        , 1.21811375, 1.48380112])"
      ]
     },
     "execution_count": 19,
     "metadata": {},
     "output_type": "execute_result"
    }
   ],
   "source": [
    "X_train_trans[0]"
   ]
  },
  {
   "cell_type": "code",
   "execution_count": 20,
   "id": "43d827fe",
   "metadata": {},
   "outputs": [],
   "source": [
    "lr=LinearRegression()"
   ]
  },
  {
   "cell_type": "code",
   "execution_count": 21,
   "id": "5709988d",
   "metadata": {},
   "outputs": [
    {
     "data": {
      "text/plain": [
       "LinearRegression()"
      ]
     },
     "execution_count": 21,
     "metadata": {},
     "output_type": "execute_result"
    }
   ],
   "source": [
    "lr.fit(X_train_trans,y_train)"
   ]
  },
  {
   "cell_type": "code",
   "execution_count": 22,
   "id": "8b218c79",
   "metadata": {},
   "outputs": [],
   "source": [
    "trans_prediction=lr.predict(X_test_trans)"
   ]
  },
  {
   "cell_type": "code",
   "execution_count": 23,
   "id": "13e6a75a",
   "metadata": {},
   "outputs": [
    {
     "data": {
      "text/plain": [
       "0.841416692467932"
      ]
     },
     "execution_count": 23,
     "metadata": {},
     "output_type": "execute_result"
    }
   ],
   "source": [
    "r2_score(y_test,trans_prediction)"
   ]
  },
  {
   "cell_type": "code",
   "execution_count": 24,
   "id": "39b06848",
   "metadata": {},
   "outputs": [
    {
     "name": "stdout",
     "output_type": "stream",
     "text": [
      "[[0.         0.87874406 0.83625305]]\n",
      "[1.96595528]\n"
     ]
    }
   ],
   "source": [
    "print(lr.coef_)\n",
    "print(lr.intercept_)"
   ]
  },
  {
   "cell_type": "code",
   "execution_count": 25,
   "id": "aacb2519",
   "metadata": {},
   "outputs": [
    {
     "data": {
      "text/plain": [
       "<matplotlib.legend.Legend at 0x24cd2c5a6d0>"
      ]
     },
     "execution_count": 25,
     "metadata": {},
     "output_type": "execute_result"
    },
    {
     "data": {
      "image/png": "[encoded data removed]",
      "text/plain": [
       "<Figure size 432x288 with 1 Axes>"
      ]
     },
     "metadata": {
      "needs_background": "light"
     },
     "output_type": "display_data"
    }
   ],
   "source": [
    "plt.plot(X_train,y_train,'b.',label='training')\n",
    "plt.plot(X_test,y_test,'r.',label='testing')\n",
    "plt.legend()"
   ]
  },
  {
   "cell_type": "code",
   "execution_count": 26,
   "id": "2143a71b",
   "metadata": {},
   "outputs": [
    {
     "data": {
      "text/plain": [
       "array([[-3.        ],\n",
       "       [-2.96984925],\n",
       "       [-2.93969849],\n",
       "       [-2.90954774],\n",
       "       [-2.87939698],\n",
       "       [-2.84924623],\n",
       "       [-2.81909548],\n",
       "       [-2.78894472],\n",
       "       [-2.75879397],\n",
       "       [-2.72864322],\n",
       "       [-2.69849246],\n",
       "       [-2.66834171],\n",
       "       [-2.63819095],\n",
       "       [-2.6080402 ],\n",
       "       [-2.57788945],\n",
       "       [-2.54773869],\n",
       "       [-2.51758794],\n",
       "       [-2.48743719],\n",
       "       [-2.45728643],\n",
       "       [-2.42713568],\n",
       "       [-2.39698492],\n",
       "       [-2.36683417],\n",
       "       [-2.33668342],\n",
       "       [-2.30653266],\n",
       "       [-2.27638191],\n",
       "       [-2.24623116],\n",
       "       [-2.2160804 ],\n",
       "       [-2.18592965],\n",
       "       [-2.15577889],\n",
       "       [-2.12562814],\n",
       "       [-2.09547739],\n",
       "       [-2.06532663],\n",
       "       [-2.03517588],\n",
       "       [-2.00502513],\n",
       "       [-1.97487437],\n",
       "       [-1.94472362],\n",
       "       [-1.91457286],\n",
       "       [-1.88442211],\n",
       "       [-1.85427136],\n",
       "       [-1.8241206 ],\n",
       "       [-1.79396985],\n",
       "       [-1.7638191 ],\n",
       "       [-1.73366834],\n",
       "       [-1.70351759],\n",
       "       [-1.67336683],\n",
       "       [-1.64321608],\n",
       "       [-1.61306533],\n",
       "       [-1.58291457],\n",
       "       [-1.55276382],\n",
       "       [-1.52261307],\n",
       "       [-1.49246231],\n",
       "       [-1.46231156],\n",
       "       [-1.4321608 ],\n",
       "       [-1.40201005],\n",
       "       [-1.3718593 ],\n",
       "       [-1.34170854],\n",
       "       [-1.31155779],\n",
       "       [-1.28140704],\n",
       "       [-1.25125628],\n",
       "       [-1.22110553],\n",
       "       [-1.19095477],\n",
       "       [-1.16080402],\n",
       "       [-1.13065327],\n",
       "       [-1.10050251],\n",
       "       [-1.07035176],\n",
       "       [-1.04020101],\n",
       "       [-1.01005025],\n",
       "       [-0.9798995 ],\n",
       "       [-0.94974874],\n",
       "       [-0.91959799],\n",
       "       [-0.88944724],\n",
       "       [-0.85929648],\n",
       "       [-0.82914573],\n",
       "       [-0.79899497],\n",
       "       [-0.76884422],\n",
       "       [-0.73869347],\n",
       "       [-0.70854271],\n",
       "       [-0.67839196],\n",
       "       [-0.64824121],\n",
       "       [-0.61809045],\n",
       "       [-0.5879397 ],\n",
       "       [-0.55778894],\n",
       "       [-0.52763819],\n",
       "       [-0.49748744],\n",
       "       [-0.46733668],\n",
       "       [-0.43718593],\n",
       "       [-0.40703518],\n",
       "       [-0.37688442],\n",
       "       [-0.34673367],\n",
       "       [-0.31658291],\n",
       "       [-0.28643216],\n",
       "       [-0.25628141],\n",
       "       [-0.22613065],\n",
       "       [-0.1959799 ],\n",
       "       [-0.16582915],\n",
       "       [-0.13567839],\n",
       "       [-0.10552764],\n",
       "       [-0.07537688],\n",
       "       [-0.04522613],\n",
       "       [-0.01507538],\n",
       "       [ 0.01507538],\n",
       "       [ 0.04522613],\n",
       "       [ 0.07537688],\n",
       "       [ 0.10552764],\n",
       "       [ 0.13567839],\n",
       "       [ 0.16582915],\n",
       "       [ 0.1959799 ],\n",
       "       [ 0.22613065],\n",
       "       [ 0.25628141],\n",
       "       [ 0.28643216],\n",
       "       [ 0.31658291],\n",
       "       [ 0.34673367],\n",
       "       [ 0.37688442],\n",
       "       [ 0.40703518],\n",
       "       [ 0.43718593],\n",
       "       [ 0.46733668],\n",
       "       [ 0.49748744],\n",
       "       [ 0.52763819],\n",
       "       [ 0.55778894],\n",
       "       [ 0.5879397 ],\n",
       "       [ 0.61809045],\n",
       "       [ 0.64824121],\n",
       "       [ 0.67839196],\n",
       "       [ 0.70854271],\n",
       "       [ 0.73869347],\n",
       "       [ 0.76884422],\n",
       "       [ 0.79899497],\n",
       "       [ 0.82914573],\n",
       "       [ 0.85929648],\n",
       "       [ 0.88944724],\n",
       "       [ 0.91959799],\n",
       "       [ 0.94974874],\n",
       "       [ 0.9798995 ],\n",
       "       [ 1.01005025],\n",
       "       [ 1.04020101],\n",
       "       [ 1.07035176],\n",
       "       [ 1.10050251],\n",
       "       [ 1.13065327],\n",
       "       [ 1.16080402],\n",
       "       [ 1.19095477],\n",
       "       [ 1.22110553],\n",
       "       [ 1.25125628],\n",
       "       [ 1.28140704],\n",
       "       [ 1.31155779],\n",
       "       [ 1.34170854],\n",
       "       [ 1.3718593 ],\n",
       "       [ 1.40201005],\n",
       "       [ 1.4321608 ],\n",
       "       [ 1.46231156],\n",
       "       [ 1.49246231],\n",
       "       [ 1.52261307],\n",
       "       [ 1.55276382],\n",
       "       [ 1.58291457],\n",
       "       [ 1.61306533],\n",
       "       [ 1.64321608],\n",
       "       [ 1.67336683],\n",
       "       [ 1.70351759],\n",
       "       [ 1.73366834],\n",
       "       [ 1.7638191 ],\n",
       "       [ 1.79396985],\n",
       "       [ 1.8241206 ],\n",
       "       [ 1.85427136],\n",
       "       [ 1.88442211],\n",
       "       [ 1.91457286],\n",
       "       [ 1.94472362],\n",
       "       [ 1.97487437],\n",
       "       [ 2.00502513],\n",
       "       [ 2.03517588],\n",
       "       [ 2.06532663],\n",
       "       [ 2.09547739],\n",
       "       [ 2.12562814],\n",
       "       [ 2.15577889],\n",
       "       [ 2.18592965],\n",
       "       [ 2.2160804 ],\n",
       "       [ 2.24623116],\n",
       "       [ 2.27638191],\n",
       "       [ 2.30653266],\n",
       "       [ 2.33668342],\n",
       "       [ 2.36683417],\n",
       "       [ 2.39698492],\n",
       "       [ 2.42713568],\n",
       "       [ 2.45728643],\n",
       "       [ 2.48743719],\n",
       "       [ 2.51758794],\n",
       "       [ 2.54773869],\n",
       "       [ 2.57788945],\n",
       "       [ 2.6080402 ],\n",
       "       [ 2.63819095],\n",
       "       [ 2.66834171],\n",
       "       [ 2.69849246],\n",
       "       [ 2.72864322],\n",
       "       [ 2.75879397],\n",
       "       [ 2.78894472],\n",
       "       [ 2.81909548],\n",
       "       [ 2.84924623],\n",
       "       [ 2.87939698],\n",
       "       [ 2.90954774],\n",
       "       [ 2.93969849],\n",
       "       [ 2.96984925],\n",
       "       [ 3.        ]])"
      ]
     },
     "execution_count": 26,
     "metadata": {},
     "output_type": "execute_result"
    }
   ],
   "source": [
    "X_new=np.linspace(-3,3,200).reshape(200,1)\n",
    "# X_new.shape\n",
    "X_new"
   ]
  },
  {
   "cell_type": "code",
   "execution_count": 27,
   "id": "5048fb97",
   "metadata": {},
   "outputs": [],
   "source": [
    "X_new_poly=poly.transform(X_new)"
   ]
  },
  {
   "cell_type": "code",
   "execution_count": 28,
   "id": "fb5fe79a",
   "metadata": {},
   "outputs": [
    {
     "data": {
      "text/plain": [
       "array([[ 1.00000000e+00, -3.00000000e+00,  9.00000000e+00],\n",
       "       [ 1.00000000e+00, -2.96984925e+00,  8.82000455e+00],\n",
       "       [ 1.00000000e+00, -2.93969849e+00,  8.64182723e+00],\n",
       "       [ 1.00000000e+00, -2.90954774e+00,  8.46546804e+00],\n",
       "       [ 1.00000000e+00, -2.87939698e+00,  8.29092700e+00],\n",
       "       [ 1.00000000e+00, -2.84924623e+00,  8.11820409e+00],\n",
       "       [ 1.00000000e+00, -2.81909548e+00,  7.94729931e+00],\n",
       "       [ 1.00000000e+00, -2.78894472e+00,  7.77821267e+00],\n",
       "       [ 1.00000000e+00, -2.75879397e+00,  7.61094417e+00],\n",
       "       [ 1.00000000e+00, -2.72864322e+00,  7.44549380e+00],\n",
       "       [ 1.00000000e+00, -2.69849246e+00,  7.28186157e+00],\n",
       "       [ 1.00000000e+00, -2.66834171e+00,  7.12004747e+00],\n",
       "       [ 1.00000000e+00, -2.63819095e+00,  6.96005151e+00],\n",
       "       [ 1.00000000e+00, -2.60804020e+00,  6.80187369e+00],\n",
       "       [ 1.00000000e+00, -2.57788945e+00,  6.64551400e+00],\n",
       "       [ 1.00000000e+00, -2.54773869e+00,  6.49097245e+00],\n",
       "       [ 1.00000000e+00, -2.51758794e+00,  6.33824903e+00],\n",
       "       [ 1.00000000e+00, -2.48743719e+00,  6.18734375e+00],\n",
       "       [ 1.00000000e+00, -2.45728643e+00,  6.03825661e+00],\n",
       "       [ 1.00000000e+00, -2.42713568e+00,  5.89098760e+00],\n",
       "       [ 1.00000000e+00, -2.39698492e+00,  5.74553673e+00],\n",
       "       [ 1.00000000e+00, -2.36683417e+00,  5.60190399e+00],\n",
       "       [ 1.00000000e+00, -2.33668342e+00,  5.46008939e+00],\n",
       "       [ 1.00000000e+00, -2.30653266e+00,  5.32009293e+00],\n",
       "       [ 1.00000000e+00, -2.27638191e+00,  5.18191460e+00],\n",
       "       [ 1.00000000e+00, -2.24623116e+00,  5.04555441e+00],\n",
       "       [ 1.00000000e+00, -2.21608040e+00,  4.91101235e+00],\n",
       "       [ 1.00000000e+00, -2.18592965e+00,  4.77828843e+00],\n",
       "       [ 1.00000000e+00, -2.15577889e+00,  4.64738264e+00],\n",
       "       [ 1.00000000e+00, -2.12562814e+00,  4.51829499e+00],\n",
       "       [ 1.00000000e+00, -2.09547739e+00,  4.39102548e+00],\n",
       "       [ 1.00000000e+00, -2.06532663e+00,  4.26557410e+00],\n",
       "       [ 1.00000000e+00, -2.03517588e+00,  4.14194086e+00],\n",
       "       [ 1.00000000e+00, -2.00502513e+00,  4.02012575e+00],\n",
       "       [ 1.00000000e+00, -1.97487437e+00,  3.90012878e+00],\n",
       "       [ 1.00000000e+00, -1.94472362e+00,  3.78194995e+00],\n",
       "       [ 1.00000000e+00, -1.91457286e+00,  3.66558925e+00],\n",
       "       [ 1.00000000e+00, -1.88442211e+00,  3.55104669e+00],\n",
       "       [ 1.00000000e+00, -1.85427136e+00,  3.43832226e+00],\n",
       "       [ 1.00000000e+00, -1.82412060e+00,  3.32741597e+00],\n",
       "       [ 1.00000000e+00, -1.79396985e+00,  3.21832782e+00],\n",
       "       [ 1.00000000e+00, -1.76381910e+00,  3.11105780e+00],\n",
       "       [ 1.00000000e+00, -1.73366834e+00,  3.00560592e+00],\n",
       "       [ 1.00000000e+00, -1.70351759e+00,  2.90197217e+00],\n",
       "       [ 1.00000000e+00, -1.67336683e+00,  2.80015656e+00],\n",
       "       [ 1.00000000e+00, -1.64321608e+00,  2.70015909e+00],\n",
       "       [ 1.00000000e+00, -1.61306533e+00,  2.60197975e+00],\n",
       "       [ 1.00000000e+00, -1.58291457e+00,  2.50561854e+00],\n",
       "       [ 1.00000000e+00, -1.55276382e+00,  2.41107548e+00],\n",
       "       [ 1.00000000e+00, -1.52261307e+00,  2.31835055e+00],\n",
       "       [ 1.00000000e+00, -1.49246231e+00,  2.22744375e+00],\n",
       "       [ 1.00000000e+00, -1.46231156e+00,  2.13835509e+00],\n",
       "       [ 1.00000000e+00, -1.43216080e+00,  2.05108457e+00],\n",
       "       [ 1.00000000e+00, -1.40201005e+00,  1.96563218e+00],\n",
       "       [ 1.00000000e+00, -1.37185930e+00,  1.88199793e+00],\n",
       "       [ 1.00000000e+00, -1.34170854e+00,  1.80018181e+00],\n",
       "       [ 1.00000000e+00, -1.31155779e+00,  1.72018383e+00],\n",
       "       [ 1.00000000e+00, -1.28140704e+00,  1.64200399e+00],\n",
       "       [ 1.00000000e+00, -1.25125628e+00,  1.56564228e+00],\n",
       "       [ 1.00000000e+00, -1.22110553e+00,  1.49109871e+00],\n",
       "       [ 1.00000000e+00, -1.19095477e+00,  1.41837327e+00],\n",
       "       [ 1.00000000e+00, -1.16080402e+00,  1.34746597e+00],\n",
       "       [ 1.00000000e+00, -1.13065327e+00,  1.27837681e+00],\n",
       "       [ 1.00000000e+00, -1.10050251e+00,  1.21110578e+00],\n",
       "       [ 1.00000000e+00, -1.07035176e+00,  1.14565289e+00],\n",
       "       [ 1.00000000e+00, -1.04020101e+00,  1.08201813e+00],\n",
       "       [ 1.00000000e+00, -1.01005025e+00,  1.02020151e+00],\n",
       "       [ 1.00000000e+00, -9.79899497e-01,  9.60203025e-01],\n",
       "       [ 1.00000000e+00, -9.49748744e-01,  9.02022676e-01],\n",
       "       [ 1.00000000e+00, -9.19597990e-01,  8.45660463e-01],\n",
       "       [ 1.00000000e+00, -8.89447236e-01,  7.91116386e-01],\n",
       "       [ 1.00000000e+00, -8.59296482e-01,  7.38390445e-01],\n",
       "       [ 1.00000000e+00, -8.29145729e-01,  6.87482639e-01],\n",
       "       [ 1.00000000e+00, -7.98994975e-01,  6.38392970e-01],\n",
       "       [ 1.00000000e+00, -7.68844221e-01,  5.91121436e-01],\n",
       "       [ 1.00000000e+00, -7.38693467e-01,  5.45668039e-01],\n",
       "       [ 1.00000000e+00, -7.08542714e-01,  5.02032777e-01],\n",
       "       [ 1.00000000e+00, -6.78391960e-01,  4.60215651e-01],\n",
       "       [ 1.00000000e+00, -6.48241206e-01,  4.20216661e-01],\n",
       "       [ 1.00000000e+00, -6.18090452e-01,  3.82035807e-01],\n",
       "       [ 1.00000000e+00, -5.87939698e-01,  3.45673089e-01],\n",
       "       [ 1.00000000e+00, -5.57788945e-01,  3.11128507e-01],\n",
       "       [ 1.00000000e+00, -5.27638191e-01,  2.78402061e-01],\n",
       "       [ 1.00000000e+00, -4.97487437e-01,  2.47493750e-01],\n",
       "       [ 1.00000000e+00, -4.67336683e-01,  2.18403576e-01],\n",
       "       [ 1.00000000e+00, -4.37185930e-01,  1.91131537e-01],\n",
       "       [ 1.00000000e+00, -4.07035176e-01,  1.65677634e-01],\n",
       "       [ 1.00000000e+00, -3.76884422e-01,  1.42041868e-01],\n",
       "       [ 1.00000000e+00, -3.46733668e-01,  1.20224237e-01],\n",
       "       [ 1.00000000e+00, -3.16582915e-01,  1.00224742e-01],\n",
       "       [ 1.00000000e+00, -2.86432161e-01,  8.20433827e-02],\n",
       "       [ 1.00000000e+00, -2.56281407e-01,  6.56801596e-02],\n",
       "       [ 1.00000000e+00, -2.26130653e-01,  5.11350723e-02],\n",
       "       [ 1.00000000e+00, -1.95979899e-01,  3.84081210e-02],\n",
       "       [ 1.00000000e+00, -1.65829146e-01,  2.74993056e-02],\n",
       "       [ 1.00000000e+00, -1.35678392e-01,  1.84086260e-02],\n",
       "       [ 1.00000000e+00, -1.05527638e-01,  1.11360824e-02],\n",
       "       [ 1.00000000e+00, -7.53768844e-02,  5.68167471e-03],\n",
       "       [ 1.00000000e+00, -4.52261307e-02,  2.04540289e-03],\n",
       "       [ 1.00000000e+00, -1.50753769e-02,  2.27266988e-04],\n",
       "       [ 1.00000000e+00,  1.50753769e-02,  2.27266988e-04],\n",
       "       [ 1.00000000e+00,  4.52261307e-02,  2.04540289e-03],\n",
       "       [ 1.00000000e+00,  7.53768844e-02,  5.68167471e-03],\n",
       "       [ 1.00000000e+00,  1.05527638e-01,  1.11360824e-02],\n",
       "       [ 1.00000000e+00,  1.35678392e-01,  1.84086260e-02],\n",
       "       [ 1.00000000e+00,  1.65829146e-01,  2.74993056e-02],\n",
       "       [ 1.00000000e+00,  1.95979899e-01,  3.84081210e-02],\n",
       "       [ 1.00000000e+00,  2.26130653e-01,  5.11350723e-02],\n",
       "       [ 1.00000000e+00,  2.56281407e-01,  6.56801596e-02],\n",
       "       [ 1.00000000e+00,  2.86432161e-01,  8.20433827e-02],\n",
       "       [ 1.00000000e+00,  3.16582915e-01,  1.00224742e-01],\n",
       "       [ 1.00000000e+00,  3.46733668e-01,  1.20224237e-01],\n",
       "       [ 1.00000000e+00,  3.76884422e-01,  1.42041868e-01],\n",
       "       [ 1.00000000e+00,  4.07035176e-01,  1.65677634e-01],\n",
       "       [ 1.00000000e+00,  4.37185930e-01,  1.91131537e-01],\n",
       "       [ 1.00000000e+00,  4.67336683e-01,  2.18403576e-01],\n",
       "       [ 1.00000000e+00,  4.97487437e-01,  2.47493750e-01],\n",
       "       [ 1.00000000e+00,  5.27638191e-01,  2.78402061e-01],\n",
       "       [ 1.00000000e+00,  5.57788945e-01,  3.11128507e-01],\n",
       "       [ 1.00000000e+00,  5.87939698e-01,  3.45673089e-01],\n",
       "       [ 1.00000000e+00,  6.18090452e-01,  3.82035807e-01],\n",
       "       [ 1.00000000e+00,  6.48241206e-01,  4.20216661e-01],\n",
       "       [ 1.00000000e+00,  6.78391960e-01,  4.60215651e-01],\n",
       "       [ 1.00000000e+00,  7.08542714e-01,  5.02032777e-01],\n",
       "       [ 1.00000000e+00,  7.38693467e-01,  5.45668039e-01],\n",
       "       [ 1.00000000e+00,  7.68844221e-01,  5.91121436e-01],\n",
       "       [ 1.00000000e+00,  7.98994975e-01,  6.38392970e-01],\n",
       "       [ 1.00000000e+00,  8.29145729e-01,  6.87482639e-01],\n",
       "       [ 1.00000000e+00,  8.59296482e-01,  7.38390445e-01],\n",
       "       [ 1.00000000e+00,  8.89447236e-01,  7.91116386e-01],\n",
       "       [ 1.00000000e+00,  9.19597990e-01,  8.45660463e-01],\n",
       "       [ 1.00000000e+00,  9.49748744e-01,  9.02022676e-01],\n",
       "       [ 1.00000000e+00,  9.79899497e-01,  9.60203025e-01],\n",
       "       [ 1.00000000e+00,  1.01005025e+00,  1.02020151e+00],\n",
       "       [ 1.00000000e+00,  1.04020101e+00,  1.08201813e+00],\n",
       "       [ 1.00000000e+00,  1.07035176e+00,  1.14565289e+00],\n",
       "       [ 1.00000000e+00,  1.10050251e+00,  1.21110578e+00],\n",
       "       [ 1.00000000e+00,  1.13065327e+00,  1.27837681e+00],\n",
       "       [ 1.00000000e+00,  1.16080402e+00,  1.34746597e+00],\n",
       "       [ 1.00000000e+00,  1.19095477e+00,  1.41837327e+00],\n",
       "       [ 1.00000000e+00,  1.22110553e+00,  1.49109871e+00],\n",
       "       [ 1.00000000e+00,  1.25125628e+00,  1.56564228e+00],\n",
       "       [ 1.00000000e+00,  1.28140704e+00,  1.64200399e+00],\n",
       "       [ 1.00000000e+00,  1.31155779e+00,  1.72018383e+00],\n",
       "       [ 1.00000000e+00,  1.34170854e+00,  1.80018181e+00],\n",
       "       [ 1.00000000e+00,  1.37185930e+00,  1.88199793e+00],\n",
       "       [ 1.00000000e+00,  1.40201005e+00,  1.96563218e+00],\n",
       "       [ 1.00000000e+00,  1.43216080e+00,  2.05108457e+00],\n",
       "       [ 1.00000000e+00,  1.46231156e+00,  2.13835509e+00],\n",
       "       [ 1.00000000e+00,  1.49246231e+00,  2.22744375e+00],\n",
       "       [ 1.00000000e+00,  1.52261307e+00,  2.31835055e+00],\n",
       "       [ 1.00000000e+00,  1.55276382e+00,  2.41107548e+00],\n",
       "       [ 1.00000000e+00,  1.58291457e+00,  2.50561854e+00],\n",
       "       [ 1.00000000e+00,  1.61306533e+00,  2.60197975e+00],\n",
       "       [ 1.00000000e+00,  1.64321608e+00,  2.70015909e+00],\n",
       "       [ 1.00000000e+00,  1.67336683e+00,  2.80015656e+00],\n",
       "       [ 1.00000000e+00,  1.70351759e+00,  2.90197217e+00],\n",
       "       [ 1.00000000e+00,  1.73366834e+00,  3.00560592e+00],\n",
       "       [ 1.00000000e+00,  1.76381910e+00,  3.11105780e+00],\n",
       "       [ 1.00000000e+00,  1.79396985e+00,  3.21832782e+00],\n",
       "       [ 1.00000000e+00,  1.82412060e+00,  3.32741597e+00],\n",
       "       [ 1.00000000e+00,  1.85427136e+00,  3.43832226e+00],\n",
       "       [ 1.00000000e+00,  1.88442211e+00,  3.55104669e+00],\n",
       "       [ 1.00000000e+00,  1.91457286e+00,  3.66558925e+00],\n",
       "       [ 1.00000000e+00,  1.94472362e+00,  3.78194995e+00],\n",
       "       [ 1.00000000e+00,  1.97487437e+00,  3.90012878e+00],\n",
       "       [ 1.00000000e+00,  2.00502513e+00,  4.02012575e+00],\n",
       "       [ 1.00000000e+00,  2.03517588e+00,  4.14194086e+00],\n",
       "       [ 1.00000000e+00,  2.06532663e+00,  4.26557410e+00],\n",
       "       [ 1.00000000e+00,  2.09547739e+00,  4.39102548e+00],\n",
       "       [ 1.00000000e+00,  2.12562814e+00,  4.51829499e+00],\n",
       "       [ 1.00000000e+00,  2.15577889e+00,  4.64738264e+00],\n",
       "       [ 1.00000000e+00,  2.18592965e+00,  4.77828843e+00],\n",
       "       [ 1.00000000e+00,  2.21608040e+00,  4.91101235e+00],\n",
       "       [ 1.00000000e+00,  2.24623116e+00,  5.04555441e+00],\n",
       "       [ 1.00000000e+00,  2.27638191e+00,  5.18191460e+00],\n",
       "       [ 1.00000000e+00,  2.30653266e+00,  5.32009293e+00],\n",
       "       [ 1.00000000e+00,  2.33668342e+00,  5.46008939e+00],\n",
       "       [ 1.00000000e+00,  2.36683417e+00,  5.60190399e+00],\n",
       "       [ 1.00000000e+00,  2.39698492e+00,  5.74553673e+00],\n",
       "       [ 1.00000000e+00,  2.42713568e+00,  5.89098760e+00],\n",
       "       [ 1.00000000e+00,  2.45728643e+00,  6.03825661e+00],\n",
       "       [ 1.00000000e+00,  2.48743719e+00,  6.18734375e+00],\n",
       "       [ 1.00000000e+00,  2.51758794e+00,  6.33824903e+00],\n",
       "       [ 1.00000000e+00,  2.54773869e+00,  6.49097245e+00],\n",
       "       [ 1.00000000e+00,  2.57788945e+00,  6.64551400e+00],\n",
       "       [ 1.00000000e+00,  2.60804020e+00,  6.80187369e+00],\n",
       "       [ 1.00000000e+00,  2.63819095e+00,  6.96005151e+00],\n",
       "       [ 1.00000000e+00,  2.66834171e+00,  7.12004747e+00],\n",
       "       [ 1.00000000e+00,  2.69849246e+00,  7.28186157e+00],\n",
       "       [ 1.00000000e+00,  2.72864322e+00,  7.44549380e+00],\n",
       "       [ 1.00000000e+00,  2.75879397e+00,  7.61094417e+00],\n",
       "       [ 1.00000000e+00,  2.78894472e+00,  7.77821267e+00],\n",
       "       [ 1.00000000e+00,  2.81909548e+00,  7.94729931e+00],\n",
       "       [ 1.00000000e+00,  2.84924623e+00,  8.11820409e+00],\n",
       "       [ 1.00000000e+00,  2.87939698e+00,  8.29092700e+00],\n",
       "       [ 1.00000000e+00,  2.90954774e+00,  8.46546804e+00],\n",
       "       [ 1.00000000e+00,  2.93969849e+00,  8.64182723e+00],\n",
       "       [ 1.00000000e+00,  2.96984925e+00,  8.82000455e+00],\n",
       "       [ 1.00000000e+00,  3.00000000e+00,  9.00000000e+00]])"
      ]
     },
     "execution_count": 28,
     "metadata": {},
     "output_type": "execute_result"
    }
   ],
   "source": [
    "X_new_poly"
   ]
  },
  {
   "cell_type": "code",
   "execution_count": 29,
   "id": "bd6e9e78",
   "metadata": {},
   "outputs": [],
   "source": [
    "y_new=lr.predict(X_new_poly)"
   ]
  },
  {
   "cell_type": "code",
   "execution_count": 30,
   "id": "4dfc2ec0",
   "metadata": {},
   "outputs": [
    {
     "data": {
      "text/plain": [
       "array([[ 1.09580916],\n",
       "       [10.51664047],\n",
       "       [ 5.09589   ],\n",
       "       [ 2.0987291 ],\n",
       "       [ 5.41598263],\n",
       "       [ 4.02438871],\n",
       "       [ 4.04670271],\n",
       "       [ 8.49555192],\n",
       "       [ 1.86579767],\n",
       "       [ 5.15754942],\n",
       "       [ 7.18912159],\n",
       "       [10.07631064],\n",
       "       [ 7.94148794],\n",
       "       [ 3.2425772 ],\n",
       "       [ 4.01949311],\n",
       "       [ 5.07387922],\n",
       "       [ 1.80116766],\n",
       "       [ 1.39759954],\n",
       "       [ 0.87637531],\n",
       "       [ 1.3120829 ],\n",
       "       [ 2.88722274],\n",
       "       [ 4.13740151],\n",
       "       [ 2.3985427 ],\n",
       "       [ 2.61988092],\n",
       "       [ 1.83135938],\n",
       "       [ 7.33565374],\n",
       "       [ 2.7112217 ],\n",
       "       [ 4.80287057],\n",
       "       [ 3.37067105],\n",
       "       [ 4.61804284],\n",
       "       [ 1.84294748],\n",
       "       [ 3.82966805],\n",
       "       [ 4.87620318],\n",
       "       [10.94113129],\n",
       "       [11.23187048],\n",
       "       [ 6.33165379],\n",
       "       [ 1.19758308],\n",
       "       [ 2.97437275],\n",
       "       [ 3.52586746],\n",
       "       [ 2.63637591],\n",
       "       [ 4.28732697],\n",
       "       [ 0.72888649],\n",
       "       [ 5.90254756],\n",
       "       [ 9.42089147],\n",
       "       [ 1.48934287],\n",
       "       [ 3.79205404],\n",
       "       [ 2.06248683],\n",
       "       [ 0.97699551],\n",
       "       [ 2.67286015],\n",
       "       [ 3.71931996],\n",
       "       [11.96948824],\n",
       "       [ 6.71962373],\n",
       "       [ 8.55861332],\n",
       "       [ 7.68383539],\n",
       "       [ 3.31972604],\n",
       "       [ 9.91766948],\n",
       "       [ 5.16985372],\n",
       "       [ 6.87291984],\n",
       "       [ 6.07148257],\n",
       "       [ 3.07102283],\n",
       "       [ 2.70977021],\n",
       "       [ 2.92237646],\n",
       "       [ 6.57228178],\n",
       "       [ 2.57640194],\n",
       "       [ 1.42632418],\n",
       "       [ 2.04624136],\n",
       "       [ 3.28896714],\n",
       "       [ 6.34384067],\n",
       "       [ 7.2302381 ],\n",
       "       [ 9.58922027],\n",
       "       [ 6.29095772],\n",
       "       [ 1.37458934],\n",
       "       [ 5.89972881],\n",
       "       [ 7.6585006 ],\n",
       "       [ 4.41366054],\n",
       "       [ 3.66928928],\n",
       "       [ 4.86887907],\n",
       "       [ 5.60485208],\n",
       "       [ 1.08226846],\n",
       "       [ 4.391781  ],\n",
       "       [ 7.80344036],\n",
       "       [ 2.45203947],\n",
       "       [ 4.05434319],\n",
       "       [ 5.76299595],\n",
       "       [-0.01688079],\n",
       "       [ 2.12259734],\n",
       "       [ 4.09639402],\n",
       "       [ 4.14019895],\n",
       "       [ 7.61651886],\n",
       "       [ 1.75745805],\n",
       "       [ 4.61840209],\n",
       "       [ 5.32690922],\n",
       "       [ 4.16659749],\n",
       "       [ 2.10453661],\n",
       "       [ 5.10286598],\n",
       "       [ 1.31427563],\n",
       "       [ 3.90309483],\n",
       "       [ 2.16491197],\n",
       "       [ 4.66291708],\n",
       "       [ 5.22845068],\n",
       "       [ 7.91516171],\n",
       "       [ 4.30498613],\n",
       "       [ 0.47070694],\n",
       "       [ 1.56416321],\n",
       "       [10.25175051],\n",
       "       [ 1.7487149 ],\n",
       "       [ 2.19118636],\n",
       "       [ 6.03543407],\n",
       "       [ 1.72683215],\n",
       "       [ 4.80981086],\n",
       "       [-1.10352129],\n",
       "       [ 2.45161258],\n",
       "       [ 9.38543326],\n",
       "       [ 5.15028611],\n",
       "       [ 4.86533258],\n",
       "       [ 6.54965535],\n",
       "       [ 5.85562656],\n",
       "       [ 3.26748274],\n",
       "       [ 9.99924582],\n",
       "       [ 0.82116294],\n",
       "       [ 7.54550072],\n",
       "       [ 8.66750964],\n",
       "       [ 0.98964489],\n",
       "       [ 4.73569751],\n",
       "       [ 2.86166472],\n",
       "       [ 1.15918749],\n",
       "       [ 6.69972349],\n",
       "       [ 7.3102763 ],\n",
       "       [ 6.45222946],\n",
       "       [ 2.72349264],\n",
       "       [ 3.33647937],\n",
       "       [ 1.48561986],\n",
       "       [ 6.24197372],\n",
       "       [-0.0695435 ],\n",
       "       [ 9.88959467],\n",
       "       [ 2.53382049],\n",
       "       [ 2.39263014],\n",
       "       [ 3.66064375],\n",
       "       [ 1.5910679 ],\n",
       "       [10.46487832],\n",
       "       [10.06694665],\n",
       "       [ 3.28365292],\n",
       "       [ 2.34237545],\n",
       "       [ 1.37373737],\n",
       "       [ 3.0709946 ],\n",
       "       [ 5.98333158],\n",
       "       [ 3.75023461],\n",
       "       [ 2.64430227],\n",
       "       [ 4.54272399],\n",
       "       [ 1.65563464],\n",
       "       [ 9.75234316],\n",
       "       [ 3.15745113],\n",
       "       [ 3.69320069],\n",
       "       [ 2.06357612],\n",
       "       [12.69284062],\n",
       "       [ 1.93174899],\n",
       "       [ 4.32999196],\n",
       "       [ 5.18176418],\n",
       "       [ 2.34798241],\n",
       "       [ 5.83112695],\n",
       "       [ 2.61490671],\n",
       "       [ 4.03210031],\n",
       "       [ 4.54004853],\n",
       "       [ 2.25104618],\n",
       "       [ 5.30395694],\n",
       "       [ 6.73828631],\n",
       "       [ 2.28142851],\n",
       "       [ 3.00725146],\n",
       "       [ 5.69074088],\n",
       "       [ 3.3239109 ],\n",
       "       [ 3.04866503],\n",
       "       [ 8.21215657],\n",
       "       [ 1.0634969 ],\n",
       "       [ 1.46325993],\n",
       "       [ 4.54900795],\n",
       "       [ 4.08711342],\n",
       "       [ 4.70515153],\n",
       "       [ 2.38618817],\n",
       "       [ 9.83920796],\n",
       "       [ 2.92942143],\n",
       "       [ 1.94504811],\n",
       "       [ 3.5383936 ],\n",
       "       [10.46296775],\n",
       "       [ 7.99126277],\n",
       "       [ 1.55484455],\n",
       "       [ 3.27966098],\n",
       "       [ 7.02407316],\n",
       "       [ 1.82211716],\n",
       "       [ 1.36321244],\n",
       "       [ 2.76892849],\n",
       "       [ 4.81600382],\n",
       "       [ 8.18209624],\n",
       "       [ 8.30885627],\n",
       "       [ 3.46101855],\n",
       "       [ 0.42892509],\n",
       "       [ 0.4331152 ],\n",
       "       [ 3.97212835],\n",
       "       [ 8.47260914],\n",
       "       [ 8.71644817],\n",
       "       [ 7.24259741]])"
      ]
     },
     "execution_count": 30,
     "metadata": {},
     "output_type": "execute_result"
    }
   ],
   "source": [
    "y"
   ]
  },
  {
   "cell_type": "code",
   "execution_count": 31,
   "id": "928c3fed",
   "metadata": {},
   "outputs": [
    {
     "data": {
      "text/plain": [
       "<matplotlib.legend.Legend at 0x24cd2c9e9d0>"
      ]
     },
     "execution_count": 31,
     "metadata": {},
     "output_type": "execute_result"
    },
    {
     "data": {
      "image/png": "[encoded data removed]",
      "text/plain": [
       "<Figure size 432x288 with 1 Axes>"
      ]
     },
     "metadata": {
      "needs_background": "light"
     },
     "output_type": "display_data"
    }
   ],
   "source": [
    "plt.plot(X_new,y_new,'cyan',label='prediction',linewidth=2)\n",
    "plt.plot(X_train,y_train,'b.',label='training')\n",
    "plt.plot(X_test,y_test,'r.',label='testing')\n",
    "\n",
    "\n",
    "plt.legend()"
   ]
  },
  {
   "cell_type": "markdown",
   "id": "d576fb82",
   "metadata": {},
   "source": [
    "Cross Validation"
   ]
  },
  {
   "cell_type": "code",
   "execution_count": 32,
   "id": "caa13d50",
   "metadata": {},
   "outputs": [],
   "source": [
    "from sklearn.model_selection import cross_val_score"
   ]
  },
  {
   "cell_type": "code",
   "execution_count": 37,
   "id": "4d879053",
   "metadata": {},
   "outputs": [
    {
     "data": {
      "text/plain": [
       "0.84985996335357"
      ]
     },
     "execution_count": 37,
     "metadata": {},
     "output_type": "execute_result"
    }
   ],
   "source": [
    "scores=cross_val_score(lr,X_train_trans,y_train,cv=10,scoring='r2')\n",
    "scores.mean()"
   ]
  },
  {
   "cell_type": "code",
   "execution_count": 38,
   "id": "078c37d4",
   "metadata": {},
   "outputs": [
    {
     "data": {
      "text/plain": [
       "array([ 0.23503675,  0.36586414,  0.22002066,  0.10039979, -0.26163911,\n",
       "        0.32597415,  0.36551677,  0.43247263, -0.19064313,  0.47572376])"
      ]
     },
     "execution_count": 38,
     "metadata": {},
     "output_type": "execute_result"
    }
   ],
   "source": [
    "scores1=cross_val_score(lr,X,y,cv=10,scoring='r2')\n",
    "scores1"
   ]
  },
  {
   "cell_type": "code",
   "execution_count": null,
   "id": "a5f5a2e2",
   "metadata": {},
   "outputs": [],
   "source": [
    "https://data36.com/polynomial-regression-python-scikit-learn/"
   ]
  }
 ],
 "metadata": {
  "kernelspec": {
   "display_name": "Python 3 (ipykernel)",
   "language": "python",
   "name": "python3"
  },
  "language_info": {
   "codemirror_mode": {
    "name": "ipython",
    "version": 3
   },
   "file_extension": ".py",
   "mimetype": "text/x-python",
   "name": "python",
   "nbconvert_exporter": "python",
   "pygments_lexer": "ipython3",
   "version": "3.9.7"
  }
 },
 "nbformat": 4,
 "nbformat_minor": 5
}
